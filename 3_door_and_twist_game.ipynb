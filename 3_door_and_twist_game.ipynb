{
 "cells": [
  {
   "cell_type": "code",
   "execution_count": null,
   "metadata": {},
   "outputs": [],
   "source": [
    "import random\n",
    "wiling = True\n",
    "while wiling:\n",
    "    play = input(\"Press 1 to play and anything else to exit \")\n",
    "    if play == \"1\":\n",
    "        doors = [\"Door\"]*3\n",
    "        print(\"\\n\\n\",doors)\n",
    "        random_door = random.randint(0,2)\n",
    "        doors[random_door] = \"BMW\"\n",
    "        select = int(input(\"Enter your choice as 0,1,2 to open the Door respectively: \\n\"))\n",
    "        if select == 0 or select == 1 or select == 2:\n",
    "            g = [i for i, e in enumerate(doors) if e == \"Door\"]\n",
    "            print(\"Door\",random.choice(g), \"is empty\")\n",
    "            choice = input(\"Do you want to swap: \")\n",
    "            if choice == \"yes\":\n",
    "                select_again = int(input(\"enter your final answer: \"))\n",
    "                if  random_door == select_again:\n",
    "                    print(\"You got BMW\")\n",
    "                else:\n",
    "                    print(\"You lose\")\n",
    "            elif choice == \"no\":\n",
    "                if (random_door == select):\n",
    "                    print(\"You got BMW\")\n",
    "                else:\n",
    "                    print(\"You opened the empty door\")\n",
    "            else:\n",
    "                print(\"Use yes or no as input\")\n",
    "        else:\n",
    "            print(\"Enter the valid entry\")\n",
    "    else:\n",
    "        print(\"Thanks for playing!! Come back soon\")\n",
    "        break"
   ]
  }
 ],
 "metadata": {
  "kernelspec": {
   "display_name": "Python 3",
   "language": "python",
   "name": "python3"
  },
  "language_info": {
   "codemirror_mode": {
    "name": "ipython",
    "version": 3
   },
   "file_extension": ".py",
   "mimetype": "text/x-python",
   "name": "python",
   "nbconvert_exporter": "python",
   "pygments_lexer": "ipython3",
   "version": "3.7.4"
  }
 },
 "nbformat": 4,
 "nbformat_minor": 2
}
