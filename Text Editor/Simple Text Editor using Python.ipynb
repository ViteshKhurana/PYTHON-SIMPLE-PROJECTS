{
 "cells": [
  {
   "cell_type": "code",
   "execution_count": 60,
   "metadata": {},
   "outputs": [],
   "source": [
    "import sys\n",
    "from tkinter import *\n",
    "v=sys.version\n",
    "root=Tk(\"Text Editor\")\n",
    "text = Text(root)\n",
    "text.grid()\n",
    "from tkinter import filedialog\n",
    "\n",
    "\n",
    "def saveas():\n",
    "    global text\n",
    "    t = text.get(\"1.0\", \"end-1c\")\n",
    "    savelocation = filedialog.asksaveasfilename()\n",
    "    file1 = open(savelocation, \"w+\")\n",
    "    file1.write(t)\n",
    "    file1.close()\n",
    "button = Button(root, text = \"Save\", command = saveas)\n",
    "button.grid()\n",
    "\n",
    "\n",
    "def FontHelvetica():\n",
    "    global text\n",
    "    text.config(font=\"Helvetica\")\n",
    "    \n",
    "\n",
    "def FontCourier():\n",
    "    global text\n",
    "    text.config(font=\"Courier\")\n",
    "    \n",
    "font = Menubutton(root, text=\"Font\")\n",
    "font.grid()\n",
    "font.menu = Menu(font, tearoff = 0)\n",
    "font[\"menu\"] = font.menu\n",
    "helvetica = IntVar()\n",
    "arial=IntVar() \n",
    "times=IntVar() \n",
    "courier = IntVar()\n",
    "font.menu.add_checkbutton(label = \"Courier\", variable  = courier, command = FontCourier)\n",
    "font.menu.add_checkbutton(label = \"Helvetica\", variable = helvetica, command = FontHelvetica)\n",
    "\n",
    "\n",
    "root.mainloop()"
   ]
  },
  {
   "cell_type": "code",
   "execution_count": null,
   "metadata": {},
   "outputs": [],
   "source": []
  }
 ],
 "metadata": {
  "kernelspec": {
   "display_name": "Python 3",
   "language": "python",
   "name": "python3"
  },
  "language_info": {
   "codemirror_mode": {
    "name": "ipython",
    "version": 3
   },
   "file_extension": ".py",
   "mimetype": "text/x-python",
   "name": "python",
   "nbconvert_exporter": "python",
   "pygments_lexer": "ipython3",
   "version": "3.7.4"
  }
 },
 "nbformat": 4,
 "nbformat_minor": 2
}
