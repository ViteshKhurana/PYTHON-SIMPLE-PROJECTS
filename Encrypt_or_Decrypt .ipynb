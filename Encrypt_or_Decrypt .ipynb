{
 "cells": [
  {
   "cell_type": "code",
   "execution_count": 20,
   "metadata": {},
   "outputs": [
    {
     "name": "stdout",
     "output_type": "stream",
     "text": [
      "------Encrypt or decrypt your Message-------\n",
      "\n",
      "1. Encrypt the message\n",
      "2. Decrypt the message\n",
      "3.Quit\n",
      "3\n",
      "Thank you\n"
     ]
    }
   ],
   "source": [
    "import cryptography\n",
    "from cryptography.fernet import Fernet\n",
    "\n",
    "def encrypt():\n",
    "    message = input(\"Enter your message here to encrypt\\n\")\n",
    "    message = message.encode()\n",
    "    key = Fernet.generate_key()\n",
    "    print(\"Save this key for decrypt your message in future\")\n",
    "    print(\"key: \\n{}\".format(key))\n",
    "    f = Fernet(key)\n",
    "    encrypt = f.encrypt(message)\n",
    "    return print(\"The encrypted message is here: \\n {}\".format(encrypt))\n",
    "    \n",
    "    \n",
    "def decrypt(de_message, de_key):\n",
    "    f = Fernet(de_key)\n",
    "    decrypted_message = f.decrypt(de_message)\n",
    "    return print(\"This is your original message before encryption\\n {}\".format(decrypted_message))\n",
    "\n",
    "print(\"------Encrypt or decrypt your Message-------\")\n",
    "\n",
    "set_choice = True\n",
    "while set_choice:\n",
    "    choice = input(\"\\n1. Encrypt the message\\n2. Decrypt the message\\n3.Quit\\n\")\n",
    "    if choice == \"3\":\n",
    "        print(\"Thank you\")\n",
    "        break\n",
    "    elif choice == \"1\":\n",
    "        encrypt()\n",
    "    elif choice == \"2\":\n",
    "        de_message = input(\"Enter your messsage here to decrypt\\n\").encode()\n",
    "        de_key = input(\"Enter the key asscoicated with it\\n\").encode()\n",
    "        decrypt(de_message[2:-1], de_key[2:-1])"
   ]
  },
  {
   "cell_type": "code",
   "execution_count": null,
   "metadata": {},
   "outputs": [],
   "source": []
  }
 ],
 "metadata": {
  "kernelspec": {
   "display_name": "Python 3",
   "language": "python",
   "name": "python3"
  },
  "language_info": {
   "codemirror_mode": {
    "name": "ipython",
    "version": 3
   },
   "file_extension": ".py",
   "mimetype": "text/x-python",
   "name": "python",
   "nbconvert_exporter": "python",
   "pygments_lexer": "ipython3",
   "version": "3.7.4"
  }
 },
 "nbformat": 4,
 "nbformat_minor": 2
}
