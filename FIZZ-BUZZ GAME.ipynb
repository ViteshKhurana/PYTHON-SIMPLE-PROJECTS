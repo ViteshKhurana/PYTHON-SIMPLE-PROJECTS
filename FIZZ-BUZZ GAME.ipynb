{
 "cells": [
  {
   "cell_type": "code",
   "execution_count": null,
   "metadata": {},
   "outputs": [],
   "source": [
    "import random\n",
    "\n",
    "print(\"-*-*-*-*-*-*-*-*-----Welcome to the FiZZ-BuZZ game-----*-*-*-*-*-*-*-*-*-*-\")\n",
    "\n",
    "\n",
    "\n",
    "def game():\n",
    "    actual_result = []\n",
    "    for i in range(range_1, (range_1+6)):\n",
    "        if i%3 == 0 and i%5 ==0:\n",
    "            actual_result.append(\"fizz-buzz\")\n",
    "        elif i%5 == 0:\n",
    "            actual_result.append(\"buzz\")\n",
    "        elif i%3 == 0:\n",
    "            actual_result.append(\"fizz\")\n",
    "        else:\n",
    "            actual_result.append(i)\n",
    "    return actual_result \n",
    "\n",
    "\n",
    "def user_input():\n",
    "    print(\"Enter the your answer for the range\", range_1, \" to \", range_1+5, \"\\nExample if your range is between 5 to 10 then give input as \\nbuzz fizz 7 8 fizz buzz\")\n",
    "    user_result = input()\n",
    "    return user_result\n",
    "\n",
    "def check_result():\n",
    "    actual_result = game()\n",
    "    user_result = user_input()\n",
    "    if actual_result == user_result:\n",
    "        return print(\"Your Answer is correct.\")\n",
    "    else:\n",
    "        return print(\"Your Answer is incorrect. \\nThe correct answer is \" , actual_result)\n",
    "    return score\n",
    "        \n",
    "        \n",
    "number = 0\n",
    "while number < 6:\n",
    "    range_1 = random.randint(1, 1000)\n",
    "    if number%2 == 0:\n",
    "        print(\"\\n\\nPlayer 1's turn\\n\")\n",
    "        check_result()\n",
    "        number += 1\n",
    "    else:\n",
    "        print(\"\\n\\nPlayer 2's turn\\n\")\n",
    "        check_result()\n",
    "        number += 1\n",
    "        \n",
    "    \n",
    "    "
   ]
  }
 ],
 "metadata": {
  "kernelspec": {
   "display_name": "Python 3",
   "language": "python",
   "name": "python3"
  },
  "language_info": {
   "codemirror_mode": {
    "name": "ipython",
    "version": 3
   },
   "file_extension": ".py",
   "mimetype": "text/x-python",
   "name": "python",
   "nbconvert_exporter": "python",
   "pygments_lexer": "ipython3",
   "version": "3.7.4"
  }
 },
 "nbformat": 4,
 "nbformat_minor": 2
}
